{
 "cells": [
  {
   "cell_type": "code",
   "execution_count": null,
   "id": "3ae19c7c",
   "metadata": {},
   "outputs": [],
   "source": [
    "from purecpp_websearch.websearch import WebSearch\n",
    "ws = WebSearch(provider=\"brave\", cleaner=\"simple\")\n",
    "\n",
    "payload = ws.search_and_read_structured(\n",
    "    \"retrieval augmented generation faiss\",\n",
    "    k=3,\n",
    "    lang=\"en\",\n",
    "    ui_lang=\"en-US\",\n",
    "    country=\"US\",\n",
    "    freshness=\"pm\",\n",
    "    mime=\"text/html\",\n",
    "    include_raw_html=False,  \n",
    ")\n",
    "\n",
    "import json\n",
    "print(json.dumps(payload, ensure_ascii=False, indent=2)[:2000])\n"
   ]
  }
 ],
 "metadata": {
  "kernelspec": {
   "display_name": "personalproject",
   "language": "python",
   "name": "python3"
  },
  "language_info": {
   "codemirror_mode": {
    "name": "ipython",
    "version": 3
   },
   "file_extension": ".py",
   "mimetype": "text/x-python",
   "name": "python",
   "nbconvert_exporter": "python",
   "pygments_lexer": "ipython3",
   "version": "3.12.0"
  }
 },
 "nbformat": 4,
 "nbformat_minor": 5
}
