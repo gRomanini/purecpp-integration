{
 "cells": [
  {
   "cell_type": "code",
   "execution_count": null,
   "id": "803d920d",
   "metadata": {},
   "outputs": [
    {
     "name": "stdout",
     "output_type": "stream",
     "text": [
      "('Oracle Database 23ai Enterprise Edition Release 23.0.0.0.0 - for Oracle Cloud and Engineered Systems\\nVersion 23.9.0.25.08',)\n",
      "OK: VECTOR disponível\n",
      "Conexão OK\n"
     ]
    }
   ],
   "source": [
    "import oracledb\n",
    "\n",
    "CFG_DIR  = \"\"          \n",
    "USER     = \"\"\n",
    "PASSWORD = \"\"\n",
    "DSN      = \"\"      \n",
    "\n",
    "conn = oracledb.connect(\n",
    "    user=USER, password=PASSWORD, dsn=DSN,\n",
    "    config_dir=CFG_DIR,\n",
    "    wallet_location=CFG_DIR,\n",
    "    wallet_password=PASSWORD,  \n",
    ")\n",
    "\n",
    "with conn.cursor() as c:\n",
    "    c.execute(\"select banner_full from v$version\")\n",
    "    print(*c.fetchall(), sep=\"\\n\")\n",
    "\n",
    "    c.execute(\"BEGIN EXECUTE IMMEDIATE 'CREATE TABLE VEC_PROBE (id NUMBER, v VECTOR(4))'; END;\")\n",
    "    c.execute(\"BEGIN EXECUTE IMMEDIATE 'DROP TABLE VEC_PROBE PURGE'; END;\")\n",
    "    print(\"OK: VECTOR disponível\")\n",
    "\n",
    "conn.close()\n",
    "print(\"Conexão OK\")\n"
   ]
  },
  {
   "cell_type": "code",
   "execution_count": null,
   "id": "6c72890f",
   "metadata": {},
   "outputs": [
    {
     "name": "stdout",
     "output_type": "stream",
     "text": [
      "[OracleBackend] connect attempt 1: {'user': 'ADMIN', 'password': '***', 'dsn': 'XU62UQK9OEAD0789_high', 'ssl_server_dn_match': True, 'config_dir': '/Users/diogovieira/Documents/oracle/ai', 'wallet_location': '/Users/diogovieira/Documents/oracle/ai', 'wallet_password': '***'}\n",
      "=== query ===\n",
      "score=0.001952 meta={'lang': 'pt', 'id': 'ae722c44-ef1e-403a-822f-aef64dc50616'} page='primeiro texto'\n",
      "score=0.001952 meta={'lang': 'pt', 'id': 'bad44260-8720-43db-98ea-757894ae632b'} page='primeiro texto'\n"
     ]
    }
   ],
   "source": [
    "from purecpp_oracledb.vectordb import make_backend, Document\n",
    "\n",
    "CFG_DIR = \"\"\n",
    "\n",
    "cfg = {\n",
    "    \"user\": \"\",\n",
    "    \"password\": \"\",\n",
    "    \"dsn\": \"\",\n",
    "    \"config_dir\": CFG_DIR,\n",
    "    \"wallet_location\": CFG_DIR,\n",
    "    \"wallet_password\": \"\",\n",
    "\n",
    "    \"table\": \"\",\n",
    "    \"dim\": 4,\n",
    "    \"metric\": \"COSINE\",\n",
    "    \"ensure_schema\": False,                    \n",
    "    \"index_algorithm\": \"IVF\",\n",
    "    \"index_params\": \"type IVF, neighbor partitions 256\",\n",
    "    \"target_accuracy\": 95,\n",
    "    \"debug\": True,\n",
    "}\n",
    "\n",
    "bk = make_backend(\"oracle\", cfg)\n",
    "\n",
    "bk.insert([\n",
    "    Document(\"primeiro texto\", [0.1, 0.2, 0.3, 0.4], {\"lang\": \"pt\"}),\n",
    "    Document(\"segundo texto\",  [0.9, 0.1, 0.0, 0.2], {\"lang\": \"en\"}),\n",
    "])\n",
    "\n",
    "print(\"=== query ===\")\n",
    "for r in bk.query([0.1, 0.2, 0.25, 0.35], k=2, filter={\"lang\": \"pt\"}):\n",
    "    print(f\"score={r.score:.6f} meta={r.doc.metadata} page='{r.doc.page_content}'\")\n",
    "\n",
    "bk.close()\n"
   ]
  }
 ],
 "metadata": {
  "kernelspec": {
   "display_name": "personalproject",
   "language": "python",
   "name": "python3"
  },
  "language_info": {
   "codemirror_mode": {
    "name": "ipython",
    "version": 3
   },
   "file_extension": ".py",
   "mimetype": "text/x-python",
   "name": "python",
   "nbconvert_exporter": "python",
   "pygments_lexer": "ipython3",
   "version": "3.12.0"
  }
 },
 "nbformat": 4,
 "nbformat_minor": 5
}
